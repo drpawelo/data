{
 "cells": [
  {
   "cell_type": "code",
   "execution_count": 17,
   "id": "4a1bd592",
   "metadata": {},
   "outputs": [],
   "source": [
    "import os\n",
    "from urllib.request import urlopen\n",
    "from bs4 import BeautifulSoup\n",
    "import time"
   ]
  },
  {
   "cell_type": "code",
   "execution_count": 19,
   "id": "0d3ed344",
   "metadata": {},
   "outputs": [],
   "source": [
    "time.sleep(2)"
   ]
  },
  {
   "cell_type": "code",
   "execution_count": 2,
   "id": "c395b1e6",
   "metadata": {},
   "outputs": [],
   "source": [
    "import json\n",
    "\n",
    "\n",
    "def save_data_as_file(data, file_name):\n",
    "    with open(file_name, 'w+') as outfile: # 'w' means open for writing. \n",
    "        # 'with x as y:' means try to do x and if it works, save it in variable y'\n",
    "        json.dump(data, outfile)\n",
    "\n",
    "def load_file_named(file_name):\n",
    "    file = open(file_name, 'r')\n",
    "    loaded_data =  json.load(file)\n",
    "    file.close()\n",
    "    return loaded_data\n",
    "\n",
    "def add_to_file(new_items, file_name):\n",
    "    if not os.path.exists(file_name):\n",
    "        save_data_as_file([], file_name)\n",
    "        print(\"created file\")\n",
    "    else:\n",
    "        print(f\"file contains {load_file_named(file_name)}!\")\n",
    "    list_in_file = load_file_named(file_name)\n",
    "    list_in_file.extend(new_items)\n",
    "    save_data_as_file(list_in_file, file_name)\n",
    "    print(f\"file now has {len(list_in_file)} items\")\n",
    "    \n",
    "    \n",
    "# add_to_file([1,2,3], )\n",
    "        \n",
    "# save_data_as_file(all_edinburgh_addressess, \"all_edinburgh_addressess.json\")"
   ]
  },
  {
   "cell_type": "code",
   "execution_count": 3,
   "id": "44b38bca",
   "metadata": {},
   "outputs": [
    {
     "name": "stdout",
     "output_type": "stream",
     "text": [
      "https://www.edinburgh.gov.uk/directory/10251/a-to-z/A\n",
      "<http.client.HTTPResponse object at 0x7fee38090c40>\n"
     ]
    }
   ],
   "source": [
    "# experiments\n",
    "\n",
    "page_url = \"https://www.edinburgh.gov.uk\"\n",
    "starting_page_url = f\"{page_url}/directory/10251/a-to-z/A\"\n",
    "print( starting_page_url)\n",
    "main_site_source_code = urlopen(starting_page_url)\n",
    "print( main_site_source_code)\n"
   ]
  },
  {
   "cell_type": "code",
   "execution_count": 7,
   "id": "3e4dfe36",
   "metadata": {},
   "outputs": [],
   "source": [
    "soup = BeautifulSoup(main_site_source_code, 'html.parser')\n",
    "# print(soup)"
   ]
  },
  {
   "cell_type": "code",
   "execution_count": null,
   "id": "a358518a",
   "metadata": {},
   "outputs": [],
   "source": []
  },
  {
   "cell_type": "code",
   "execution_count": 10,
   "id": "257b2c41",
   "metadata": {},
   "outputs": [
    {
     "name": "stdout",
     "output_type": "stream",
     "text": [
      "0\n"
     ]
    }
   ],
   "source": [
    "list_of_letters_div = soup.find_all(\"ul\", class_=\"list--az\")\n",
    "print(len(list_of_letters_div))\n",
    "# print(list_of_letters_div)"
   ]
  },
  {
   "cell_type": "code",
   "execution_count": 130,
   "id": "aa42af22",
   "metadata": {},
   "outputs": [
    {
     "data": {
      "text/plain": [
       "'/directory/10251/a-to-z/A'"
      ]
     },
     "execution_count": 130,
     "metadata": {},
     "output_type": "execute_result"
    }
   ],
   "source": [
    "# see one\n",
    "letter_links = list_of_letters_div.find_all(\"a\")\n",
    "letter_links[0]['href']"
   ]
  },
  {
   "cell_type": "code",
   "execution_count": 12,
   "id": "ebf1870d",
   "metadata": {},
   "outputs": [
    {
     "data": {
      "text/plain": [
       "['/directory/10251/a-to-z/A',\n",
       " '/directory/10251/a-to-z/B',\n",
       " '/directory/10251/a-to-z/C',\n",
       " '/directory/10251/a-to-z/D',\n",
       " '/directory/10251/a-to-z/E',\n",
       " '/directory/10251/a-to-z/F',\n",
       " '/directory/10251/a-to-z/G',\n",
       " '/directory/10251/a-to-z/H',\n",
       " '/directory/10251/a-to-z/I',\n",
       " '/directory/10251/a-to-z/J',\n",
       " '/directory/10251/a-to-z/K',\n",
       " '/directory/10251/a-to-z/L',\n",
       " '/directory/10251/a-to-z/M',\n",
       " '/directory/10251/a-to-z/N',\n",
       " '/directory/10251/a-to-z/O',\n",
       " '/directory/10251/a-to-z/P',\n",
       " '/directory/10251/a-to-z/Q',\n",
       " '/directory/10251/a-to-z/R',\n",
       " '/directory/10251/a-to-z/S',\n",
       " '/directory/10251/a-to-z/T',\n",
       " '/directory/10251/a-to-z/U',\n",
       " '/directory/10251/a-to-z/V',\n",
       " '/directory/10251/a-to-z/W',\n",
       " '/directory/10251/a-to-z/Y',\n",
       " '/directory/10251/a-to-z/Z']"
      ]
     },
     "execution_count": 12,
     "metadata": {},
     "output_type": "execute_result"
    }
   ],
   "source": [
    "def get_links_to_all_letter_pages():\n",
    "#     go to starting page\n",
    "    page_url = \"https://www.edinburgh.gov.uk\"\n",
    "    starting_page_url = f\"{page_url}/directory/10251/a-to-z/A\"\n",
    "    main_site_source_code = urlopen(starting_page_url)\n",
    "    soup = BeautifulSoup(main_site_source_code, 'html.parser')\n",
    "#    find the list of letter-pages (list-az), and in it extract all a links\n",
    "    container_with_letters = soup.find_all(\"ul\", class_=\"list--az\")[0]\n",
    "    list_of_links = container_with_letters.find_all(\"a\")\n",
    "    letter_links_urls = [\n",
    "        link['href']\n",
    "        for link in list_of_links\n",
    "    ]\n",
    "    return letter_links_urls\n",
    "\n",
    "links_to_letters = get_links_to_all_letter_pages()\n",
    "links_to_letters"
   ]
  },
  {
   "cell_type": "code",
   "execution_count": 13,
   "id": "34ef06ad",
   "metadata": {},
   "outputs": [
    {
     "name": "stdout",
     "output_type": "stream",
     "text": [
      "getting addressess for /directory/10251/a-to-z/I\n",
      "https://www.edinburgh.gov.uk/directory/10251/a-to-z/I?page=0\n",
      "next True, only:False, last_page:False, len_pag1\n",
      "https://www.edinburgh.gov.uk/directory/10251/a-to-z/I?page=1\n",
      "next False, only:True, last_page:False, len_pag0\n"
     ]
    },
    {
     "data": {
      "text/plain": [
       "[{'address': 'Inchcolm Terrace',\n",
       "  'site': '/directory-record/1503777/inchcolm-terrace'},\n",
       " {'address': 'Inchgarvie Park',\n",
       "  'site': '/directory-record/1503778/inchgarvie-park'},\n",
       " {'address': 'Inchkeith Avenue',\n",
       "  'site': '/directory-record/1503779/inchkeith-avenue'},\n",
       " {'address': 'Inchview Terrace',\n",
       "  'site': '/directory-record/1503780/inchview-terrace'},\n",
       " {'address': 'India Street', 'site': '/directory-record/1503781/india-street'},\n",
       " {'address': 'Industrial Road',\n",
       "  'site': '/directory-record/1503782/industrial-road'},\n",
       " {'address': 'Industry Home',\n",
       "  'site': '/directory-record/1503783/industry-home'},\n",
       " {'address': 'Industry Lane',\n",
       "  'site': '/directory-record/1503784/industry-lane'},\n",
       " {'address': 'Inglewood Place',\n",
       "  'site': '/directory-record/1503785/inglewood-place'},\n",
       " {'address': 'Inglis Green Gait',\n",
       "  'site': '/directory-record/1503786/inglis-green-gait'},\n",
       " {'address': 'Inglis Green Rigg',\n",
       "  'site': '/directory-record/1503787/inglis-green-rigg'},\n",
       " {'address': 'Inglis Green Road',\n",
       "  'site': '/directory-record/1503788/inglis-green-road'},\n",
       " {'address': 'Ingliston Gardens',\n",
       "  'site': '/directory-record/1503789/ingliston-gardens'},\n",
       " {'address': 'Ingliston Interchange',\n",
       "  'site': '/directory-record/1503790/ingliston-interchange'},\n",
       " {'address': 'Ingliston Road',\n",
       "  'site': '/directory-record/1503791/ingliston-road'},\n",
       " {'address': 'Innes Gait', 'site': '/directory-record/1549311/innes-gait'},\n",
       " {'address': 'Innes Road', 'site': '/directory-record/1506330/innes-road'},\n",
       " {'address': 'Inveralmond Drive',\n",
       "  'site': '/directory-record/1503792/inveralmond-drive'},\n",
       " {'address': 'Inveralmond Gardens',\n",
       "  'site': '/directory-record/1503793/inveralmond-gardens'},\n",
       " {'address': 'Inveralmond Grove',\n",
       "  'site': '/directory-record/1503794/inveralmond-grove'},\n",
       " {'address': 'Inverleith Avenue',\n",
       "  'site': '/directory-record/1503795/inverleith-avenue'},\n",
       " {'address': 'Inverleith Avenue South',\n",
       "  'site': '/directory-record/1503796/inverleith-avenue-south'},\n",
       " {'address': 'Inverleith Gardens',\n",
       "  'site': '/directory-record/1503797/inverleith-gardens'},\n",
       " {'address': 'Inverleith Grove',\n",
       "  'site': '/directory-record/1503798/inverleith-grove'},\n",
       " {'address': 'Inverleith Place',\n",
       "  'site': '/directory-record/1503799/inverleith-place'},\n",
       " {'address': 'Inverleith Place Lane',\n",
       "  'site': '/directory-record/1503800/inverleith-place-lane'},\n",
       " {'address': 'Inverleith Row',\n",
       "  'site': '/directory-record/1503801/inverleith-row'},\n",
       " {'address': 'Inverleith Terrace',\n",
       "  'site': '/directory-record/1503802/inverleith-terrace'},\n",
       " {'address': 'Inverleith Terrace Lane',\n",
       "  'site': '/directory-record/1503803/inverleith-terrace-lane'},\n",
       " {'address': 'Ivanhoe Crescent',\n",
       "  'site': '/directory-record/1503804/ivanhoe-crescent'},\n",
       " {'address': 'Ivy Terrace', 'site': '/directory-record/1503805/ivy-terrace'},\n",
       " {'address': 'Inchcolm Terrace',\n",
       "  'site': '/directory-record/1503777/inchcolm-terrace'},\n",
       " {'address': 'Inchgarvie Park',\n",
       "  'site': '/directory-record/1503778/inchgarvie-park'},\n",
       " {'address': 'Inchkeith Avenue',\n",
       "  'site': '/directory-record/1503779/inchkeith-avenue'},\n",
       " {'address': 'Inchview Terrace',\n",
       "  'site': '/directory-record/1503780/inchview-terrace'},\n",
       " {'address': 'India Street', 'site': '/directory-record/1503781/india-street'},\n",
       " {'address': 'Industrial Road',\n",
       "  'site': '/directory-record/1503782/industrial-road'},\n",
       " {'address': 'Industry Home',\n",
       "  'site': '/directory-record/1503783/industry-home'},\n",
       " {'address': 'Industry Lane',\n",
       "  'site': '/directory-record/1503784/industry-lane'},\n",
       " {'address': 'Inglewood Place',\n",
       "  'site': '/directory-record/1503785/inglewood-place'},\n",
       " {'address': 'Inglis Green Gait',\n",
       "  'site': '/directory-record/1503786/inglis-green-gait'},\n",
       " {'address': 'Inglis Green Rigg',\n",
       "  'site': '/directory-record/1503787/inglis-green-rigg'},\n",
       " {'address': 'Inglis Green Road',\n",
       "  'site': '/directory-record/1503788/inglis-green-road'},\n",
       " {'address': 'Ingliston Gardens',\n",
       "  'site': '/directory-record/1503789/ingliston-gardens'},\n",
       " {'address': 'Ingliston Interchange',\n",
       "  'site': '/directory-record/1503790/ingliston-interchange'},\n",
       " {'address': 'Ingliston Road',\n",
       "  'site': '/directory-record/1503791/ingliston-road'},\n",
       " {'address': 'Innes Gait', 'site': '/directory-record/1549311/innes-gait'},\n",
       " {'address': 'Innes Road', 'site': '/directory-record/1506330/innes-road'},\n",
       " {'address': 'Inveralmond Drive',\n",
       "  'site': '/directory-record/1503792/inveralmond-drive'},\n",
       " {'address': 'Inveralmond Gardens',\n",
       "  'site': '/directory-record/1503793/inveralmond-gardens'},\n",
       " {'address': 'Inveralmond Grove',\n",
       "  'site': '/directory-record/1503794/inveralmond-grove'},\n",
       " {'address': 'Inverleith Avenue',\n",
       "  'site': '/directory-record/1503795/inverleith-avenue'},\n",
       " {'address': 'Inverleith Avenue South',\n",
       "  'site': '/directory-record/1503796/inverleith-avenue-south'},\n",
       " {'address': 'Inverleith Gardens',\n",
       "  'site': '/directory-record/1503797/inverleith-gardens'},\n",
       " {'address': 'Inverleith Grove',\n",
       "  'site': '/directory-record/1503798/inverleith-grove'},\n",
       " {'address': 'Inverleith Place',\n",
       "  'site': '/directory-record/1503799/inverleith-place'},\n",
       " {'address': 'Inverleith Place Lane',\n",
       "  'site': '/directory-record/1503800/inverleith-place-lane'},\n",
       " {'address': 'Inverleith Row',\n",
       "  'site': '/directory-record/1503801/inverleith-row'},\n",
       " {'address': 'Inverleith Terrace',\n",
       "  'site': '/directory-record/1503802/inverleith-terrace'},\n",
       " {'address': 'Inverleith Terrace Lane',\n",
       "  'site': '/directory-record/1503803/inverleith-terrace-lane'},\n",
       " {'address': 'Ivanhoe Crescent',\n",
       "  'site': '/directory-record/1503804/ivanhoe-crescent'},\n",
       " {'address': 'Ivy Terrace', 'site': '/directory-record/1503805/ivy-terrace'}]"
      ]
     },
     "execution_count": 13,
     "metadata": {},
     "output_type": "execute_result"
    }
   ],
   "source": [
    "# inside of the letter with address names, get all links to all addressess\n",
    "def addressess_in_one_letter_page(link_to_page_with_addressess):\n",
    "    print(f\"getting addressess for {link_to_page_with_addressess}\")\n",
    "    is_there_another_page = True\n",
    "    address_links_dict = []\n",
    "    current_page = 0\n",
    "    while is_there_another_page and current_page < 30:\n",
    "        #30 just in case I do something wrong and it loops forever \n",
    "    #     go to that page\n",
    "        page_url = \"https://www.edinburgh.gov.uk\"\n",
    "        starting_page_url = f\"{page_url}{link_to_page_with_addressess}?page={current_page}\"\n",
    "        print(starting_page_url)\n",
    "        main_site_source_code = urlopen(starting_page_url)\n",
    "        soup = BeautifulSoup(main_site_source_code, 'html.parser')\n",
    "    #    find the list of letter-pages (list-az), and in it extract all a links\n",
    "        container_with_addressess = soup.find_all(\"ul\", class_=\"list--record\")[0]\n",
    "\n",
    "        # get all links\n",
    "        list_of_links = container_with_addressess.find_all(\"a\")\n",
    "        address_links_dict.extend( [\n",
    "            {'address':link.get_text(), 'site': link['href']}\n",
    "            for link in list_of_links\n",
    "        ])\n",
    "        only_page = len(soup.find_all(\"nav\", class_=\"pagination\")) == 0\n",
    "        pagination_metas = soup.find_all(\"span\", class_=\"pagination__meta\")\n",
    "        last_page = len(pagination_metas) != 0 and pagination_metas[0]\\\n",
    "                                .get_text().find(\"You are on the last page\") != -1\n",
    "        \n",
    "        is_there_next_page = not only_page and not last_page\n",
    "        print(f\"next {is_there_next_page}, only:{only_page}, last_page:{last_page}, len_pag{len(pagination_metas)}\")\n",
    "        if (is_there_next_page):\n",
    "            is_there_another_page = True\n",
    "            current_page += 1\n",
    "        else:\n",
    "            is_there_another_page = False\n",
    "\n",
    "\n",
    "    return address_links_dict\n",
    "\n",
    "addressess_in_one_letter_page('/directory/10251/a-to-z/I')"
   ]
  },
  {
   "cell_type": "code",
   "execution_count": null,
   "id": "9af0b9dc",
   "metadata": {},
   "outputs": [],
   "source": []
  },
  {
   "cell_type": "code",
   "execution_count": 20,
   "id": "5330ceef",
   "metadata": {},
   "outputs": [
    {
     "name": "stdout",
     "output_type": "stream",
     "text": [
      "get links to /directory/10251/a-to-z/A\n",
      "getting addressess for /directory/10251/a-to-z/A\n",
      "https://www.edinburgh.gov.uk/directory/10251/a-to-z/A?page=0\n",
      "next True, only:False, last_page:False, len_pag1\n",
      "https://www.edinburgh.gov.uk/directory/10251/a-to-z/A?page=1\n",
      "next True, only:False, last_page:False, len_pag1\n",
      "https://www.edinburgh.gov.uk/directory/10251/a-to-z/A?page=2\n",
      "next True, only:False, last_page:False, len_pag0\n",
      "https://www.edinburgh.gov.uk/directory/10251/a-to-z/A?page=3\n",
      "next False, only:False, last_page:True, len_pag1\n",
      ".....get links to /directory/10251/a-to-z/B\n",
      "getting addressess for /directory/10251/a-to-z/B\n",
      "https://www.edinburgh.gov.uk/directory/10251/a-to-z/B?page=0\n",
      "next True, only:False, last_page:False, len_pag1\n",
      "https://www.edinburgh.gov.uk/directory/10251/a-to-z/B?page=1\n",
      "next True, only:False, last_page:False, len_pag1\n",
      "https://www.edinburgh.gov.uk/directory/10251/a-to-z/B?page=2\n",
      "next True, only:False, last_page:False, len_pag0\n",
      "https://www.edinburgh.gov.uk/directory/10251/a-to-z/B?page=3\n",
      "next True, only:False, last_page:False, len_pag0\n",
      "https://www.edinburgh.gov.uk/directory/10251/a-to-z/B?page=4\n",
      "next True, only:False, last_page:False, len_pag0\n",
      "https://www.edinburgh.gov.uk/directory/10251/a-to-z/B?page=5\n",
      "next True, only:False, last_page:False, len_pag0\n",
      "https://www.edinburgh.gov.uk/directory/10251/a-to-z/B?page=6\n",
      "next True, only:False, last_page:False, len_pag0\n",
      "https://www.edinburgh.gov.uk/directory/10251/a-to-z/B?page=7\n",
      "next True, only:False, last_page:False, len_pag0\n",
      "https://www.edinburgh.gov.uk/directory/10251/a-to-z/B?page=8\n",
      "next True, only:False, last_page:False, len_pag0\n",
      "https://www.edinburgh.gov.uk/directory/10251/a-to-z/B?page=9\n",
      "next True, only:False, last_page:False, len_pag0\n",
      "https://www.edinburgh.gov.uk/directory/10251/a-to-z/B?page=10\n",
      "next False, only:False, last_page:True, len_pag1\n",
      ".....get links to /directory/10251/a-to-z/C\n",
      "getting addressess for /directory/10251/a-to-z/C\n",
      "https://www.edinburgh.gov.uk/directory/10251/a-to-z/C?page=0\n",
      "next True, only:False, last_page:False, len_pag1\n",
      "https://www.edinburgh.gov.uk/directory/10251/a-to-z/C?page=1\n",
      "next True, only:False, last_page:False, len_pag1\n",
      "https://www.edinburgh.gov.uk/directory/10251/a-to-z/C?page=2\n",
      "next True, only:False, last_page:False, len_pag0\n",
      "https://www.edinburgh.gov.uk/directory/10251/a-to-z/C?page=3\n",
      "next True, only:False, last_page:False, len_pag0\n",
      "https://www.edinburgh.gov.uk/directory/10251/a-to-z/C?page=4\n",
      "next True, only:False, last_page:False, len_pag0\n",
      "https://www.edinburgh.gov.uk/directory/10251/a-to-z/C?page=5\n",
      "next True, only:False, last_page:False, len_pag0\n",
      "https://www.edinburgh.gov.uk/directory/10251/a-to-z/C?page=6\n",
      "next True, only:False, last_page:False, len_pag0\n",
      "https://www.edinburgh.gov.uk/directory/10251/a-to-z/C?page=7\n",
      "next True, only:False, last_page:False, len_pag0\n",
      "https://www.edinburgh.gov.uk/directory/10251/a-to-z/C?page=8\n",
      "next True, only:False, last_page:False, len_pag0\n",
      "https://www.edinburgh.gov.uk/directory/10251/a-to-z/C?page=9\n",
      "next True, only:False, last_page:False, len_pag0\n",
      "https://www.edinburgh.gov.uk/directory/10251/a-to-z/C?page=10\n",
      "next True, only:False, last_page:False, len_pag0\n",
      "https://www.edinburgh.gov.uk/directory/10251/a-to-z/C?page=11\n",
      "next False, only:False, last_page:True, len_pag1\n",
      ".....get links to /directory/10251/a-to-z/D\n",
      "getting addressess for /directory/10251/a-to-z/D\n",
      "https://www.edinburgh.gov.uk/directory/10251/a-to-z/D?page=0\n",
      "next True, only:False, last_page:False, len_pag1\n",
      "https://www.edinburgh.gov.uk/directory/10251/a-to-z/D?page=1\n",
      "next True, only:False, last_page:False, len_pag1\n",
      "https://www.edinburgh.gov.uk/directory/10251/a-to-z/D?page=2\n",
      "next True, only:False, last_page:False, len_pag0\n",
      "https://www.edinburgh.gov.uk/directory/10251/a-to-z/D?page=3\n",
      "next True, only:False, last_page:False, len_pag0\n",
      "https://www.edinburgh.gov.uk/directory/10251/a-to-z/D?page=4\n",
      "next False, only:False, last_page:True, len_pag1\n",
      ".....get links to /directory/10251/a-to-z/E\n",
      "getting addressess for /directory/10251/a-to-z/E\n",
      "https://www.edinburgh.gov.uk/directory/10251/a-to-z/E?page=0\n",
      "next True, only:False, last_page:False, len_pag1\n",
      "https://www.edinburgh.gov.uk/directory/10251/a-to-z/E?page=1\n",
      "next True, only:False, last_page:False, len_pag1\n",
      "https://www.edinburgh.gov.uk/directory/10251/a-to-z/E?page=2\n",
      "next True, only:False, last_page:False, len_pag0\n",
      "https://www.edinburgh.gov.uk/directory/10251/a-to-z/E?page=3\n",
      "next False, only:False, last_page:True, len_pag1\n",
      ".....get links to /directory/10251/a-to-z/F\n",
      "getting addressess for /directory/10251/a-to-z/F\n",
      "https://www.edinburgh.gov.uk/directory/10251/a-to-z/F?page=0\n",
      "next True, only:False, last_page:False, len_pag1\n",
      "https://www.edinburgh.gov.uk/directory/10251/a-to-z/F?page=1\n",
      "next True, only:False, last_page:False, len_pag1\n",
      "https://www.edinburgh.gov.uk/directory/10251/a-to-z/F?page=2\n",
      "next True, only:False, last_page:False, len_pag0\n",
      "https://www.edinburgh.gov.uk/directory/10251/a-to-z/F?page=3\n",
      "next False, only:False, last_page:True, len_pag1\n",
      ".....get links to /directory/10251/a-to-z/G\n",
      "getting addressess for /directory/10251/a-to-z/G\n",
      "https://www.edinburgh.gov.uk/directory/10251/a-to-z/G?page=0\n",
      "next True, only:False, last_page:False, len_pag1\n",
      "https://www.edinburgh.gov.uk/directory/10251/a-to-z/G?page=1\n",
      "next True, only:False, last_page:False, len_pag1\n",
      "https://www.edinburgh.gov.uk/directory/10251/a-to-z/G?page=2\n",
      "next True, only:False, last_page:False, len_pag0\n",
      "https://www.edinburgh.gov.uk/directory/10251/a-to-z/G?page=3\n",
      "next True, only:False, last_page:False, len_pag0\n",
      "https://www.edinburgh.gov.uk/directory/10251/a-to-z/G?page=4\n",
      "next True, only:False, last_page:False, len_pag0\n",
      "https://www.edinburgh.gov.uk/directory/10251/a-to-z/G?page=5\n",
      "next False, only:False, last_page:True, len_pag1\n",
      ".....get links to /directory/10251/a-to-z/H\n",
      "getting addressess for /directory/10251/a-to-z/H\n",
      "https://www.edinburgh.gov.uk/directory/10251/a-to-z/H?page=0\n",
      "next True, only:False, last_page:False, len_pag1\n",
      "https://www.edinburgh.gov.uk/directory/10251/a-to-z/H?page=1\n",
      "next True, only:False, last_page:False, len_pag1\n",
      "https://www.edinburgh.gov.uk/directory/10251/a-to-z/H?page=2\n",
      "next True, only:False, last_page:False, len_pag0\n",
      "https://www.edinburgh.gov.uk/directory/10251/a-to-z/H?page=3\n",
      "next True, only:False, last_page:False, len_pag0\n",
      "https://www.edinburgh.gov.uk/directory/10251/a-to-z/H?page=4\n",
      "next True, only:False, last_page:False, len_pag0\n",
      "https://www.edinburgh.gov.uk/directory/10251/a-to-z/H?page=5\n",
      "next False, only:False, last_page:True, len_pag1\n",
      ".....get links to /directory/10251/a-to-z/I\n",
      "getting addressess for /directory/10251/a-to-z/I\n",
      "https://www.edinburgh.gov.uk/directory/10251/a-to-z/I?page=0\n",
      "next True, only:False, last_page:False, len_pag1\n",
      "https://www.edinburgh.gov.uk/directory/10251/a-to-z/I?page=1\n",
      "next False, only:True, last_page:False, len_pag0\n",
      ".....get links to /directory/10251/a-to-z/J\n",
      "getting addressess for /directory/10251/a-to-z/J\n",
      "https://www.edinburgh.gov.uk/directory/10251/a-to-z/J?page=0\n",
      "next True, only:False, last_page:False, len_pag1\n",
      "https://www.edinburgh.gov.uk/directory/10251/a-to-z/J?page=1\n",
      "next False, only:True, last_page:False, len_pag0\n",
      ".....get links to /directory/10251/a-to-z/K\n",
      "getting addressess for /directory/10251/a-to-z/K\n",
      "https://www.edinburgh.gov.uk/directory/10251/a-to-z/K?page=0\n",
      "next True, only:False, last_page:False, len_pag1\n",
      "https://www.edinburgh.gov.uk/directory/10251/a-to-z/K?page=1\n",
      "next True, only:False, last_page:False, len_pag1\n",
      "https://www.edinburgh.gov.uk/directory/10251/a-to-z/K?page=2\n",
      "next False, only:False, last_page:True, len_pag1\n",
      ".....get links to /directory/10251/a-to-z/L\n",
      "getting addressess for /directory/10251/a-to-z/L\n",
      "https://www.edinburgh.gov.uk/directory/10251/a-to-z/L?page=0\n",
      "next True, only:False, last_page:False, len_pag1\n",
      "https://www.edinburgh.gov.uk/directory/10251/a-to-z/L?page=1\n",
      "next True, only:False, last_page:False, len_pag1\n",
      "https://www.edinburgh.gov.uk/directory/10251/a-to-z/L?page=2\n",
      "next True, only:False, last_page:False, len_pag0\n",
      "https://www.edinburgh.gov.uk/directory/10251/a-to-z/L?page=3\n",
      "next True, only:False, last_page:False, len_pag0\n",
      "https://www.edinburgh.gov.uk/directory/10251/a-to-z/L?page=4\n",
      "next True, only:False, last_page:False, len_pag0\n",
      "https://www.edinburgh.gov.uk/directory/10251/a-to-z/L?page=5\n"
     ]
    },
    {
     "name": "stdout",
     "output_type": "stream",
     "text": [
      "next False, only:False, last_page:True, len_pag1\n",
      ".....get links to /directory/10251/a-to-z/M\n",
      "getting addressess for /directory/10251/a-to-z/M\n",
      "https://www.edinburgh.gov.uk/directory/10251/a-to-z/M?page=0\n",
      "next True, only:False, last_page:False, len_pag1\n",
      "https://www.edinburgh.gov.uk/directory/10251/a-to-z/M?page=1\n",
      "next True, only:False, last_page:False, len_pag1\n",
      "https://www.edinburgh.gov.uk/directory/10251/a-to-z/M?page=2\n",
      "next True, only:False, last_page:False, len_pag0\n",
      "https://www.edinburgh.gov.uk/directory/10251/a-to-z/M?page=3\n",
      "next True, only:False, last_page:False, len_pag0\n",
      "https://www.edinburgh.gov.uk/directory/10251/a-to-z/M?page=4\n",
      "next True, only:False, last_page:False, len_pag0\n",
      "https://www.edinburgh.gov.uk/directory/10251/a-to-z/M?page=5\n",
      "next True, only:False, last_page:False, len_pag0\n",
      "https://www.edinburgh.gov.uk/directory/10251/a-to-z/M?page=6\n",
      "next True, only:False, last_page:False, len_pag0\n",
      "https://www.edinburgh.gov.uk/directory/10251/a-to-z/M?page=7\n",
      "next False, only:False, last_page:True, len_pag1\n",
      ".....get links to /directory/10251/a-to-z/N\n",
      "getting addressess for /directory/10251/a-to-z/N\n",
      "https://www.edinburgh.gov.uk/directory/10251/a-to-z/N?page=0\n",
      "next True, only:False, last_page:False, len_pag1\n",
      "https://www.edinburgh.gov.uk/directory/10251/a-to-z/N?page=1\n",
      "next True, only:False, last_page:False, len_pag1\n",
      "https://www.edinburgh.gov.uk/directory/10251/a-to-z/N?page=2\n",
      "next True, only:False, last_page:False, len_pag0\n",
      "https://www.edinburgh.gov.uk/directory/10251/a-to-z/N?page=3\n",
      "next False, only:False, last_page:True, len_pag1\n",
      ".....get links to /directory/10251/a-to-z/O\n",
      "getting addressess for /directory/10251/a-to-z/O\n",
      "https://www.edinburgh.gov.uk/directory/10251/a-to-z/O?page=0\n",
      "next True, only:False, last_page:False, len_pag1\n",
      "https://www.edinburgh.gov.uk/directory/10251/a-to-z/O?page=1\n",
      "next True, only:False, last_page:False, len_pag1\n",
      "https://www.edinburgh.gov.uk/directory/10251/a-to-z/O?page=2\n",
      "next False, only:False, last_page:True, len_pag1\n",
      ".....get links to /directory/10251/a-to-z/P\n",
      "getting addressess for /directory/10251/a-to-z/P\n",
      "https://www.edinburgh.gov.uk/directory/10251/a-to-z/P?page=0\n",
      "next True, only:False, last_page:False, len_pag1\n",
      "https://www.edinburgh.gov.uk/directory/10251/a-to-z/P?page=1\n",
      "next True, only:False, last_page:False, len_pag1\n",
      "https://www.edinburgh.gov.uk/directory/10251/a-to-z/P?page=2\n",
      "next True, only:False, last_page:False, len_pag0\n",
      "https://www.edinburgh.gov.uk/directory/10251/a-to-z/P?page=3\n",
      "next True, only:False, last_page:False, len_pag0\n",
      "https://www.edinburgh.gov.uk/directory/10251/a-to-z/P?page=4\n",
      "next False, only:False, last_page:True, len_pag1\n",
      ".....get links to /directory/10251/a-to-z/Q\n",
      "getting addressess for /directory/10251/a-to-z/Q\n",
      "https://www.edinburgh.gov.uk/directory/10251/a-to-z/Q?page=0\n",
      "next True, only:False, last_page:False, len_pag1\n",
      "https://www.edinburgh.gov.uk/directory/10251/a-to-z/Q?page=1\n",
      "next False, only:True, last_page:False, len_pag0\n",
      ".....get links to /directory/10251/a-to-z/R\n",
      "getting addressess for /directory/10251/a-to-z/R\n",
      "https://www.edinburgh.gov.uk/directory/10251/a-to-z/R?page=0\n",
      "next True, only:False, last_page:False, len_pag1\n",
      "https://www.edinburgh.gov.uk/directory/10251/a-to-z/R?page=1\n",
      "next True, only:False, last_page:False, len_pag1\n",
      "https://www.edinburgh.gov.uk/directory/10251/a-to-z/R?page=2\n",
      "next True, only:False, last_page:False, len_pag0\n",
      "https://www.edinburgh.gov.uk/directory/10251/a-to-z/R?page=3\n",
      "next True, only:False, last_page:False, len_pag0\n",
      "https://www.edinburgh.gov.uk/directory/10251/a-to-z/R?page=4\n",
      "next False, only:False, last_page:True, len_pag1\n",
      ".....get links to /directory/10251/a-to-z/S\n",
      "getting addressess for /directory/10251/a-to-z/S\n",
      "https://www.edinburgh.gov.uk/directory/10251/a-to-z/S?page=0\n",
      "next True, only:False, last_page:False, len_pag1\n",
      "https://www.edinburgh.gov.uk/directory/10251/a-to-z/S?page=1\n",
      "next True, only:False, last_page:False, len_pag1\n",
      "https://www.edinburgh.gov.uk/directory/10251/a-to-z/S?page=2\n",
      "next True, only:False, last_page:False, len_pag0\n",
      "https://www.edinburgh.gov.uk/directory/10251/a-to-z/S?page=3\n",
      "next True, only:False, last_page:False, len_pag0\n",
      "https://www.edinburgh.gov.uk/directory/10251/a-to-z/S?page=4\n",
      "next True, only:False, last_page:False, len_pag0\n",
      "https://www.edinburgh.gov.uk/directory/10251/a-to-z/S?page=5\n",
      "next True, only:False, last_page:False, len_pag0\n",
      "https://www.edinburgh.gov.uk/directory/10251/a-to-z/S?page=6\n",
      "next True, only:False, last_page:False, len_pag0\n",
      "https://www.edinburgh.gov.uk/directory/10251/a-to-z/S?page=7\n",
      "next True, only:False, last_page:False, len_pag0\n",
      "https://www.edinburgh.gov.uk/directory/10251/a-to-z/S?page=8\n",
      "next False, only:False, last_page:True, len_pag1\n",
      ".....get links to /directory/10251/a-to-z/T\n",
      "getting addressess for /directory/10251/a-to-z/T\n",
      "https://www.edinburgh.gov.uk/directory/10251/a-to-z/T?page=0\n",
      "next True, only:False, last_page:False, len_pag1\n",
      "https://www.edinburgh.gov.uk/directory/10251/a-to-z/T?page=1\n",
      "next True, only:False, last_page:False, len_pag1\n",
      "https://www.edinburgh.gov.uk/directory/10251/a-to-z/T?page=2\n",
      "next False, only:False, last_page:True, len_pag1\n",
      ".....get links to /directory/10251/a-to-z/U\n",
      "getting addressess for /directory/10251/a-to-z/U\n",
      "https://www.edinburgh.gov.uk/directory/10251/a-to-z/U?page=0\n",
      "next True, only:False, last_page:False, len_pag1\n",
      "https://www.edinburgh.gov.uk/directory/10251/a-to-z/U?page=1\n",
      "next False, only:True, last_page:False, len_pag0\n",
      ".....get links to /directory/10251/a-to-z/V\n",
      "getting addressess for /directory/10251/a-to-z/V\n",
      "https://www.edinburgh.gov.uk/directory/10251/a-to-z/V?page=0\n",
      "next True, only:False, last_page:False, len_pag1\n",
      "https://www.edinburgh.gov.uk/directory/10251/a-to-z/V?page=1\n",
      "next False, only:True, last_page:False, len_pag0\n",
      ".....get links to /directory/10251/a-to-z/W\n",
      "getting addressess for /directory/10251/a-to-z/W\n",
      "https://www.edinburgh.gov.uk/directory/10251/a-to-z/W?page=0\n",
      "next True, only:False, last_page:False, len_pag1\n",
      "https://www.edinburgh.gov.uk/directory/10251/a-to-z/W?page=1\n",
      "next True, only:False, last_page:False, len_pag1\n",
      "https://www.edinburgh.gov.uk/directory/10251/a-to-z/W?page=2\n",
      "next True, only:False, last_page:False, len_pag0\n",
      "https://www.edinburgh.gov.uk/directory/10251/a-to-z/W?page=3\n",
      "next True, only:False, last_page:False, len_pag0\n",
      "https://www.edinburgh.gov.uk/directory/10251/a-to-z/W?page=4\n",
      "next True, only:False, last_page:False, len_pag0\n",
      "https://www.edinburgh.gov.uk/directory/10251/a-to-z/W?page=5\n",
      "next False, only:False, last_page:True, len_pag1\n",
      ".....get links to /directory/10251/a-to-z/Y\n",
      "getting addressess for /directory/10251/a-to-z/Y\n",
      "https://www.edinburgh.gov.uk/directory/10251/a-to-z/Y?page=0\n",
      "next True, only:False, last_page:False, len_pag1\n",
      "https://www.edinburgh.gov.uk/directory/10251/a-to-z/Y?page=1\n",
      "next False, only:True, last_page:False, len_pag0\n",
      ".....get links to /directory/10251/a-to-z/Z\n",
      "getting addressess for /directory/10251/a-to-z/Z\n",
      "https://www.edinburgh.gov.uk/directory/10251/a-to-z/Z?page=0\n",
      "next True, only:False, last_page:False, len_pag1\n",
      "https://www.edinburgh.gov.uk/directory/10251/a-to-z/Z?page=1\n",
      "next False, only:True, last_page:False, len_pag0\n",
      "....."
     ]
    }
   ],
   "source": [
    "def get_dict_with_links_to_addressess(letter_links):\n",
    "    dicts_of_addressess = []\n",
    "\n",
    "    for letter_link in letter_links:\n",
    "        print(f\"get links to {letter_link}\")\n",
    "        dicts_of_addressess.extend(addressess_in_one_letter_page(letter_link))\n",
    "        sleep_seconds = 5\n",
    "        while sleep_seconds>0:\n",
    "            time.sleep(1)\n",
    "            print(\".\", end=\"\")\n",
    "            sleep_seconds-= 1\n",
    "    return dicts_of_addressess\n",
    "\n",
    "dict_with_addressess = get_dict_with_links_to_addressess(links_to_letters)"
   ]
  },
  {
   "cell_type": "code",
   "execution_count": 23,
   "id": "1b856e66",
   "metadata": {},
   "outputs": [],
   "source": [
    "# len(dict_with_addressess)\n",
    "save_data_as_file(dict_with_addressess, \"links_streets.json\")"
   ]
  },
  {
   "cell_type": "code",
   "execution_count": 21,
   "id": "d368a28e",
   "metadata": {},
   "outputs": [
    {
     "data": {
      "text/plain": [
       "5212"
      ]
     },
     "execution_count": 21,
     "metadata": {},
     "output_type": "execute_result"
    }
   ],
   "source": [
    "len(dict_with_addressess)"
   ]
  },
  {
   "cell_type": "code",
   "execution_count": 22,
   "id": "91771aa9",
   "metadata": {},
   "outputs": [
    {
     "data": {
      "text/plain": [
       "{'address': 'A70--Glenbrook Rd To B7031',\n",
       " 'site': '/directory-record/1506108/a70-glenbrook-rd-to-b7031'}"
      ]
     },
     "execution_count": 22,
     "metadata": {},
     "output_type": "execute_result"
    }
   ],
   "source": [
    "dict_with_addressess[0]"
   ]
  },
  {
   "cell_type": "code",
   "execution_count": 183,
   "id": "cb9cacd7",
   "metadata": {},
   "outputs": [],
   "source": []
  },
  {
   "cell_type": "code",
   "execution_count": null,
   "id": "247e307c",
   "metadata": {},
   "outputs": [],
   "source": [
    "# go to each page with addressess (separate linke for addressess starting with each letter)"
   ]
  },
  {
   "cell_type": "code",
   "execution_count": 24,
   "id": "a1e495b7",
   "metadata": {},
   "outputs": [
    {
     "name": "stdout",
     "output_type": "stream",
     "text": [
      "------ link_to_calendar_pdf /directory-record/1503061/cammo-tower-view\n",
      "https://www.edinburgh.gov.uk/directory-record/1503061/cammo-tower-view\n",
      "https://www.edinburgh.gov.uk/downloads/file/30265/thursday-2-kerbside-calendar 1\n"
     ]
    },
    {
     "data": {
      "text/plain": [
       "'https://www.edinburgh.gov.uk/downloads/file/30265/thursday-2-kerbside-calendar'"
      ]
     },
     "execution_count": 24,
     "metadata": {},
     "output_type": "execute_result"
    }
   ],
   "source": [
    "import re\n",
    "# inside of the letter with address names, get all links to all addressess\n",
    "def link_to_calendar_pdf(address_link):\n",
    "    print(f\"------ link_to_calendar_pdf {address_link}\")\n",
    "    page_url = \"https://www.edinburgh.gov.uk\"\n",
    "    starting_page_url = f\"{page_url}{address_link}\"\n",
    "    print(starting_page_url)\n",
    "    main_site_source_code = urlopen(starting_page_url)\n",
    "    soup = BeautifulSoup(main_site_source_code, 'html.parser')\n",
    "    \n",
    "    regexForDownloadButton = \"^Dow.* calendar$\"\n",
    "    #     We need a regex here since there are different typos on the website. eg:\n",
    "    #     Dowload recycling and waste calendar\n",
    "    #     Download Recycling and waste calendar\n",
    "    #     Download recycling and waste box calendar\n",
    "    download_links = soup.find_all(\"a\",href=True, text=re.compile(regexForDownloadButton, re.I))\n",
    "    link = download_links[0]['href'] if len(download_links) > 0 else None\n",
    "    print(link,len(download_links))\n",
    "    return link\n",
    "\n",
    "link_to_calendar_pdf('/directory-record/1503061/cammo-tower-view')"
   ]
  },
  {
   "cell_type": "code",
   "execution_count": 20,
   "id": "8544f775",
   "metadata": {},
   "outputs": [],
   "source": [
    "# all_edinburgh_addressess\n",
    "import time\n",
    "def reset_file():\n",
    "    save_data_as_file([], 'addresses.json')\n",
    "    \n",
    "# reset_file()"
   ]
  },
  {
   "cell_type": "code",
   "execution_count": 65,
   "id": "956b0d6d",
   "metadata": {},
   "outputs": [],
   "source": [
    "save_data_as_file(all_edinburgh_addressess,'bin_pickup_days.json' )"
   ]
  },
  {
   "cell_type": "code",
   "execution_count": 205,
   "id": "9e81aebe",
   "metadata": {},
   "outputs": [
    {
     "data": {
      "text/plain": [
       "5190"
      ]
     },
     "execution_count": 205,
     "metadata": {},
     "output_type": "execute_result"
    }
   ],
   "source": [
    "len(dict_with_addressess)"
   ]
  },
  {
   "cell_type": "code",
   "execution_count": null,
   "id": "2564781f",
   "metadata": {},
   "outputs": [],
   "source": [
    "starting_data = load_file_named('addresses.json')"
   ]
  },
  {
   "cell_type": "code",
   "execution_count": 38,
   "id": "18da0760",
   "metadata": {},
   "outputs": [],
   "source": [
    "def get_all_address_infos_from_all_letters(addresses, no_sleep = False):\n",
    "    for index, address in enumerate(addresses):\n",
    "#         print(f\"\\n =========== will be checking {letter_page_url}\")\n",
    "#         this_letter_addressess = addressess_in_one_letter_page(letter_page_url)\n",
    "#         for address in this_letter_addressess:\n",
    "        if ('calendar' not in address or address['calendar'] == \"\"):\n",
    "            new_link = link_to_calendar_pdf(address['site'])\n",
    "            if new_link != None and new_link != '':\n",
    "                address['calendar'] = new_link\n",
    "            else:\n",
    "                print(\"missing \",  address['address'])\n",
    "            save_data_as_file(addresses, 'addresses.json')\n",
    "            sleep_seconds = 10 if index % 30 == 29 else 0\n",
    "            while sleep_seconds>0 and no_sleep == False:\n",
    "                print(\"🔜\", end=\"\")\n",
    "                time.sleep(1)\n",
    "                sleep_seconds-= 1\n",
    "#         else:\n",
    "#             print(\"✅\", end=\"\")\n",
    "        \n",
    "    return addresses"
   ]
  },
  {
   "cell_type": "code",
   "execution_count": 39,
   "id": "fab62011",
   "metadata": {},
   "outputs": [
    {
     "name": "stdout",
     "output_type": "stream",
     "text": [
      "------ link_to_calendar_pdf /directory-record/1502865/carlton-street\n",
      "https://www.edinburgh.gov.uk/directory-record/1502865/carlton-street\n",
      "https://www.edinburgh.gov.uk/downloads/file/30256/monday-kerbside-calendar 2\n",
      "------ link_to_calendar_pdf /directory-record/1504844/queen-street\n",
      "https://www.edinburgh.gov.uk/directory-record/1504844/queen-street\n",
      "https://www.edinburgh.gov.uk/downloads/file/30256/monday-kerbside-calendar 2\n",
      "------ link_to_calendar_pdf /directory-record/1504844/queen-street\n",
      "https://www.edinburgh.gov.uk/directory-record/1504844/queen-street\n",
      "https://www.edinburgh.gov.uk/downloads/file/30256/monday-kerbside-calendar 2\n"
     ]
    }
   ],
   "source": [
    "all_edinburgh_addressess = get_all_address_infos_from_all_letters(all_edinburgh_addressess, no_sleep = True)"
   ]
  },
  {
   "cell_type": "code",
   "execution_count": null,
   "id": "dba39611",
   "metadata": {},
   "outputs": [],
   "source": [
    "all_edinburgh_addressess_a_s = all_edinburgh_addressess"
   ]
  },
  {
   "cell_type": "code",
   "execution_count": null,
   "id": "5d1b83e5",
   "metadata": {},
   "outputs": [],
   "source": [
    "len(all_edinburgh_addressess_a_s)"
   ]
  },
  {
   "cell_type": "code",
   "execution_count": 197,
   "id": "14ebfb86",
   "metadata": {},
   "outputs": [
    {
     "data": {
      "text/plain": [
       "False"
      ]
     },
     "execution_count": 197,
     "metadata": {},
     "output_type": "execute_result"
    }
   ],
   "source": [
    "'b' in {'a':4}"
   ]
  },
  {
   "cell_type": "code",
   "execution_count": 35,
   "id": "50242659",
   "metadata": {},
   "outputs": [],
   "source": [
    "all_edinburgh_addressess = [\n",
    "    address\n",
    "    for address in all_edinburgh_addressess\n",
    "    if address['address'] != 'Northfield Broadway' and address['address'] != 'Title'\n",
    "]"
   ]
  },
  {
   "cell_type": "code",
   "execution_count": 23,
   "id": "90192085",
   "metadata": {},
   "outputs": [
    {
     "data": {
      "text/plain": [
       "{'address': 'A70--Glenbrook Rd To B7031',\n",
       " 'site': '/directory-record/1506108/a70-glenbrook-rd-to-b7031',\n",
       " 'calendar': 'https://www.edinburgh.gov.uk/downloads/file/30260/wednesday-1-kerbside-calendar'}"
      ]
     },
     "execution_count": 23,
     "metadata": {},
     "output_type": "execute_result"
    }
   ],
   "source": [
    "all_edinburgh_addressess[0]"
   ]
  },
  {
   "cell_type": "code",
   "execution_count": 40,
   "id": "342085c9",
   "metadata": {},
   "outputs": [
    {
     "data": {
      "text/plain": [
       "Counter({'https://www.edinburgh.gov.uk/downloads/file/30260/wednesday-1-kerbside-calendar': 980,\n",
       "         'https://www.edinburgh.gov.uk/downloads/file/30258/tuesday-2-kerbside-calendar': 613,\n",
       "         'https://www.edinburgh.gov.uk/downloads/file/30262/wednesday-2-kerbside-calendar': 401,\n",
       "         'https://www.edinburgh.gov.uk/downloads/file/30269/friday-2-kerbside-calendar': 533,\n",
       "         'https://www.edinburgh.gov.uk/downloads/file/30267/friday-1-kerbside-calendar': 753,\n",
       "         'https://www.edinburgh.gov.uk/downloads/file/30265/thursday-2-kerbside-calendar': 504,\n",
       "         'https://www.edinburgh.gov.uk/downloads/file/30263/thursday-1-kerbside-calendar': 640,\n",
       "         'https://www.edinburgh.gov.uk/downloads/file/30257/tuesday-1-kerbside-calendar': 704,\n",
       "         'https://www.edinburgh.gov.uk/downloads/file/30261/wednesday-1a-kerbside-calendar': 51,\n",
       "         'https://www.edinburgh.gov.uk/downloads/file/30268/friday-1a-kerbside-calendar': 1,\n",
       "         'https://www.edinburgh.gov.uk/downloads/file/30256/monday-kerbside-calendar': 4,\n",
       "         'https://www.edinburgh.gov.uk/downloads/file/30259/tuesday-1a-kerbside-calendar': 1,\n",
       "         'https://www.edinburgh.gov.uk/downloads/file/30264/thursday-1a-kerbside-calendar': 3})"
      ]
     },
     "execution_count": 40,
     "metadata": {},
     "output_type": "execute_result"
    }
   ],
   "source": [
    "cals = [addres.get('calendar',\"None\")\n",
    "    for addres in all_edinburgh_addressess]\n",
    "import collections\n",
    "# list(collections.Counter(cals).keys())\n",
    "collections.Counter(cals)"
   ]
  },
  {
   "cell_type": "code",
   "execution_count": null,
   "id": "5d5d209d",
   "metadata": {},
   "outputs": [],
   "source": [
    "starting_data = load_file_named('addresses.json')"
   ]
  },
  {
   "cell_type": "code",
   "execution_count": 8,
   "id": "8bd13b58",
   "metadata": {},
   "outputs": [],
   "source": [
    "# all_edinburgh_addressess = starting_data"
   ]
  },
  {
   "cell_type": "code",
   "execution_count": null,
   "id": "6e5f9e06",
   "metadata": {},
   "outputs": [],
   "source": [
    "# unique addressess\n",
    "all_dictionaries = set([\n",
    "    item.get('calendar', 0)\n",
    "    for item in all_edinburgh_addressess])\n",
    "all_dictionaries"
   ]
  },
  {
   "cell_type": "code",
   "execution_count": 49,
   "id": "a5fedae1",
   "metadata": {},
   "outputs": [
    {
     "data": {
      "text/plain": [
       "'thursday-1a'"
      ]
     },
     "execution_count": 49,
     "metadata": {},
     "output_type": "execute_result"
    }
   ],
   "source": [
    "one_link  = 'https://www.edinburgh.gov.uk/downloads/file/30264/thursday-1a-kerbside-calendar'\n",
    "def link_to_code(link):\n",
    "    return link.split('/')[-1].replace('-kerbside-calendar',\"\")\n",
    "    \n",
    "link_to_code(one_link)"
   ]
  },
  {
   "cell_type": "code",
   "execution_count": null,
   "id": "4de3d820",
   "metadata": {},
   "outputs": [],
   "source": [
    "import string\n",
    "codes = [\n",
    "    link_to_code(link)\n",
    "    for link in all_dictionaries\n",
    "]\n",
    "\n",
    "\n",
    "calendar_links_to_codes = dict(zip(all_dictionaries, codes))\n",
    "calendar_links_to_codes"
   ]
  },
  {
   "cell_type": "code",
   "execution_count": 55,
   "id": "65995491",
   "metadata": {},
   "outputs": [],
   "source": [
    "codes_to_calendars = dict(zip(codes,all_dictionaries))\n"
   ]
  },
  {
   "cell_type": "code",
   "execution_count": 54,
   "id": "bb66f843",
   "metadata": {},
   "outputs": [],
   "source": [
    "for address in all_edinburgh_addressess:\n",
    "    address['calendar_id'] = calendar_links_to_codes[address['calendar']]"
   ]
  },
  {
   "cell_type": "code",
   "execution_count": null,
   "id": "0d7b1a92",
   "metadata": {},
   "outputs": [],
   "source": [
    "meta = {}\n",
    "# meta['download_files_url'] = 'https://www.edinburgh.gov.uk/downloads/file/'\n",
    "meta['website_links_url'] = 'https://www.edinburgh.gov.uk/directory-record/'\n",
    "meta['calendars_ids'] = codes_to_calendars\n",
    "# save_data_as_file(meta,'bin_pickup_meta.tsv' )"
   ]
  },
  {
   "cell_type": "code",
   "execution_count": null,
   "id": "e12db1c0",
   "metadata": {},
   "outputs": [],
   "source": [
    "meta"
   ]
  },
  {
   "cell_type": "code",
   "execution_count": 75,
   "id": "3e79c1ea",
   "metadata": {},
   "outputs": [
    {
     "data": {
      "text/plain": [
       "{'website_links_url': 'https://www.edinburgh.gov.uk/directory-record/',\n",
       " 'calendars_ids': {'thursday-1a': 'https://www.edinburgh.gov.uk/downloads/file/30264/thursday-1a-kerbside-calendar',\n",
       "  'friday-2': 'https://www.edinburgh.gov.uk/downloads/file/30269/friday-2-kerbside-calendar',\n",
       "  'tuesday-2': 'https://www.edinburgh.gov.uk/downloads/file/30258/tuesday-2-kerbside-calendar',\n",
       "  'friday-1': 'https://www.edinburgh.gov.uk/downloads/file/30267/friday-1-kerbside-calendar',\n",
       "  'wednesday-2': 'https://www.edinburgh.gov.uk/downloads/file/30262/wednesday-2-kerbside-calendar',\n",
       "  'thursday-1': 'https://www.edinburgh.gov.uk/downloads/file/30263/thursday-1-kerbside-calendar',\n",
       "  'tuesday-1': 'https://www.edinburgh.gov.uk/downloads/file/30257/tuesday-1-kerbside-calendar',\n",
       "  'wednesday-1a': 'https://www.edinburgh.gov.uk/downloads/file/30261/wednesday-1a-kerbside-calendar',\n",
       "  'friday-1a': 'https://www.edinburgh.gov.uk/downloads/file/30268/friday-1a-kerbside-calendar',\n",
       "  'thursday-2': 'https://www.edinburgh.gov.uk/downloads/file/30265/thursday-2-kerbside-calendar',\n",
       "  'wednesday-1': 'https://www.edinburgh.gov.uk/downloads/file/30260/wednesday-1-kerbside-calendar',\n",
       "  'tuesday-1a': 'https://www.edinburgh.gov.uk/downloads/file/30259/tuesday-1a-kerbside-calendar',\n",
       "  'monday': 'https://www.edinburgh.gov.uk/downloads/file/30256/monday-kerbside-calendar'}}"
      ]
     },
     "execution_count": 75,
     "metadata": {},
     "output_type": "execute_result"
    }
   ],
   "source": []
  },
  {
   "cell_type": "code",
   "execution_count": 77,
   "id": "02e57753",
   "metadata": {},
   "outputs": [],
   "source": [
    "import csv\n",
    "with open('calendar_links.tsv', 'w') as file:\n",
    "    write = csv.writer(file,  delimiter='\\t')\n",
    "    write.writerow(['calendars_ids','calendar_dowload_link'])\n",
    "    write.writerows([\n",
    "        [key,value]\n",
    "        for key, value in meta['calendars_ids'].items()])"
   ]
  },
  {
   "cell_type": "code",
   "execution_count": null,
   "id": "b374404a",
   "metadata": {},
   "outputs": [],
   "source": [
    "# for address in all_edinburgh_addressess:\n",
    "#     address.pop('calendar')"
   ]
  },
  {
   "cell_type": "code",
   "execution_count": null,
   "id": "f6a7ee71",
   "metadata": {},
   "outputs": [],
   "source": [
    "for address in all_edinburgh_addressess:\n",
    "    address['site'] = address['site'].replace(\"/directory-record/\",\"\")"
   ]
  },
  {
   "cell_type": "code",
   "execution_count": 72,
   "id": "d87d2a4e",
   "metadata": {},
   "outputs": [],
   "source": [
    "for address in all_edinburgh_addressess:\n",
    "    if \"\\t\" in address['address']:\n",
    "        print(address)\n"
   ]
  },
  {
   "cell_type": "markdown",
   "id": "7b2d83cd",
   "metadata": {},
   "source": [
    "# todos for the shiny app:\n",
    "\n",
    "- address selector (dropdown?)\n",
    "-> in response: link to pdf + link to google calendar\n",
    "- can we use 'the fuzz' for search? https://pypi.org/project/thefuzz/"
   ]
  },
  {
   "cell_type": "code",
   "execution_count": 64,
   "id": "62306602",
   "metadata": {},
   "outputs": [
    {
     "data": {
      "text/plain": [
       "{'address': 'A70--Glenbrook Rd To B7031',\n",
       " 'site': '1506108/a70-glenbrook-rd-to-b7031',\n",
       " 'calendar_id': 'wednesday-1'}"
      ]
     },
     "execution_count": 64,
     "metadata": {},
     "output_type": "execute_result"
    }
   ],
   "source": [
    "all_edinburgh_addressess[0]"
   ]
  },
  {
   "cell_type": "code",
   "execution_count": null,
   "id": "f71728a8",
   "metadata": {},
   "outputs": [],
   "source": [
    "# save_data_as_file(all_edinburgh_addressess_csv,'bin_pickup_days.csv' )"
   ]
  },
  {
   "cell_type": "code",
   "execution_count": 68,
   "id": "94650e69",
   "metadata": {},
   "outputs": [
    {
     "data": {
      "text/plain": [
       "['address', 'site', 'calendar_id']"
      ]
     },
     "execution_count": 68,
     "metadata": {},
     "output_type": "execute_result"
    }
   ],
   "source": [
    "column_names = list(all_edinburgh_addressess[0].keys())\n",
    "column_names"
   ]
  },
  {
   "cell_type": "code",
   "execution_count": null,
   "id": "e2b482a4",
   "metadata": {},
   "outputs": [],
   "source": []
  },
  {
   "cell_type": "code",
   "execution_count": 74,
   "id": "2aa12894",
   "metadata": {},
   "outputs": [],
   "source": [
    "import csv\n",
    "with open('bin_pickup_days.tsv', 'w') as file:\n",
    "    write = csv.writer(file,  delimiter='\\t')\n",
    "    write.writerow(column_names)\n",
    "    write.writerows([\n",
    "        [address[key] for key in column_names]\n",
    "        for address in all_edinburgh_addressess])"
   ]
  },
  {
   "cell_type": "code",
   "execution_count": null,
   "id": "1fc03ef9",
   "metadata": {},
   "outputs": [],
   "source": []
  }
 ],
 "metadata": {
  "kernelspec": {
   "display_name": "Python 3 (ipykernel)",
   "language": "python",
   "name": "python3"
  },
  "language_info": {
   "codemirror_mode": {
    "name": "ipython",
    "version": 3
   },
   "file_extension": ".py",
   "mimetype": "text/x-python",
   "name": "python",
   "nbconvert_exporter": "python",
   "pygments_lexer": "ipython3",
   "version": "3.9.7"
  }
 },
 "nbformat": 4,
 "nbformat_minor": 5
}
